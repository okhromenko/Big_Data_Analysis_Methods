{
  "nbformat": 4,
  "nbformat_minor": 0,
  "metadata": {
    "colab": {
      "provenance": [],
      "collapsed_sections": [
        "8pD74vSV0K9I"
      ],
      "include_colab_link": true
    },
    "kernelspec": {
      "name": "python3",
      "display_name": "Python 3"
    },
    "language_info": {
      "name": "python"
    }
  },
  "cells": [
    {
      "cell_type": "markdown",
      "metadata": {
        "id": "view-in-github",
        "colab_type": "text"
      },
      "source": [
        "<a href=\"https://colab.research.google.com/github/okhromenko/Big_Data_Analysis_Methods/blob/master/%22Lab_3_distributions%2Bhw_ipynb%22.ipynb\" target=\"_parent\"><img src=\"https://colab.research.google.com/assets/colab-badge.svg\" alt=\"Open In Colab\"/></a>"
      ]
    },
    {
      "cell_type": "markdown",
      "source": [
        "**PROBABILITY DISTRIBUTIONS**"
      ],
      "metadata": {
        "id": "DCK6ZOnAwxri"
      }
    },
    {
      "cell_type": "markdown",
      "source": [
        "Ресурсы\n",
        "\n",
        "*   scipy stats https://docs.scipy.org/doc/scipy/reference/stats.html\n",
        "*   tutorial 1 https://www.datacamp.com/community/tutorials/probability-distributions-python\n",
        "*   tutorial 2 https://web.stanford.edu/class/cs109/handouts/python.html\n",
        "\n",
        "\n",
        "\n",
        "\n"
      ],
      "metadata": {
        "id": "yJuvBH3Rw1C0"
      }
    },
    {
      "cell_type": "code",
      "source": [
        "import numpy as np\n",
        "import matplotlib.pyplot as plt"
      ],
      "metadata": {
        "id": "dkAIO0kbxP1l"
      },
      "execution_count": 2,
      "outputs": []
    },
    {
      "cell_type": "markdown",
      "source": [
        "## Bernoulli\n",
        "\n",
        "$$X = \\begin{cases} 1, \\; w.p. \\; p\\\\ 0, \\; w.p. \\; 1-p \\end{cases}$$\n",
        "\n",
        "Support $\\{0,1 \\}$"
      ],
      "metadata": {
        "id": "VN_sM1FNxX1Z"
      }
    },
    {
      "cell_type": "code",
      "source": [
        "from scipy.stats import bernoulli"
      ],
      "metadata": {
        "id": "RvnAugOhxSLm"
      },
      "execution_count": 13,
      "outputs": []
    },
    {
      "cell_type": "code",
      "source": [
        "p = 0.3\n",
        "mean, var = bernoulli.stats(p, moments='mv')\n",
        "print(mean, var)"
      ],
      "metadata": {
        "colab": {
          "base_uri": "https://localhost:8080/"
        },
        "id": "_jgNplG5xcPx",
        "outputId": "c46c931a-52b5-43c8-a709-82e85622fd91"
      },
      "execution_count": 14,
      "outputs": [
        {
          "output_type": "stream",
          "name": "stdout",
          "text": [
            "0.3 0.21\n"
          ]
        }
      ]
    },
    {
      "cell_type": "code",
      "source": [
        "rv_bernoulli = bernoulli(p)\n",
        "type(rv_bernoulli)"
      ],
      "metadata": {
        "colab": {
          "base_uri": "https://localhost:8080/"
        },
        "id": "rgou-6xpxfRx",
        "outputId": "535cc5cc-3c18-4b0e-c43d-4b2d4ce30412"
      },
      "execution_count": 15,
      "outputs": [
        {
          "output_type": "execute_result",
          "data": {
            "text/plain": [
              "scipy.stats._distn_infrastructure.rv_frozen"
            ]
          },
          "metadata": {},
          "execution_count": 15
        }
      ]
    },
    {
      "cell_type": "code",
      "source": [
        "rv_bernoulli.pmf([0,1])"
      ],
      "metadata": {
        "colab": {
          "base_uri": "https://localhost:8080/"
        },
        "id": "k3D9ju3uzhwh",
        "outputId": "2fa43387-f9c5-4395-c9a9-e825c1e853a2"
      },
      "execution_count": 16,
      "outputs": [
        {
          "output_type": "execute_result",
          "data": {
            "text/plain": [
              "array([0.7, 0.3])"
            ]
          },
          "metadata": {},
          "execution_count": 16
        }
      ]
    },
    {
      "cell_type": "code",
      "source": [
        "rv_bernoulli.pmf([2])"
      ],
      "metadata": {
        "colab": {
          "base_uri": "https://localhost:8080/"
        },
        "id": "n-P7vEodzko5",
        "outputId": "e88d25a5-ea6b-4ddd-a44b-8261bf10cede"
      },
      "execution_count": 17,
      "outputs": [
        {
          "output_type": "execute_result",
          "data": {
            "text/plain": [
              "array([0.])"
            ]
          },
          "metadata": {},
          "execution_count": 17
        }
      ]
    },
    {
      "cell_type": "code",
      "source": [
        "plt.scatter([0,1],rv_bernoulli.pmf([0,1]))"
      ],
      "metadata": {
        "colab": {
          "base_uri": "https://localhost:8080/",
          "height": 283
        },
        "id": "nhw1r0HPznYh",
        "outputId": "eb9ed467-b328-4294-b454-c1ced62b855b"
      },
      "execution_count": 18,
      "outputs": [
        {
          "output_type": "execute_result",
          "data": {
            "text/plain": [
              "<matplotlib.collections.PathCollection at 0x7fbc1cc9e7d0>"
            ]
          },
          "metadata": {},
          "execution_count": 18
        },
        {
          "output_type": "display_data",
          "data": {
            "text/plain": [
              "<Figure size 432x288 with 1 Axes>"
            ],
            "image/png": "[encoded data removed]"
          },
          "metadata": {
            "needs_background": "light"
          }
        }
      ]
    },
    {
      "cell_type": "code",
      "source": [
        "rv_bernoulli.cdf([0,1])"
      ],
      "metadata": {
        "colab": {
          "base_uri": "https://localhost:8080/"
        },
        "id": "zrrp3OUjzqD6",
        "outputId": "f6cd02f9-fae5-43be-9653-b232a898fc1e"
      },
      "execution_count": 19,
      "outputs": [
        {
          "output_type": "execute_result",
          "data": {
            "text/plain": [
              "array([0.7, 1. ])"
            ]
          },
          "metadata": {},
          "execution_count": 19
        }
      ]
    },
    {
      "cell_type": "markdown",
      "source": [
        "**Подкидываем монетку!!!**"
      ],
      "metadata": {
        "id": "-ZuuFvI_ztam"
      }
    },
    {
      "cell_type": "code",
      "source": [
        "rv_bernoulli.rvs()"
      ],
      "metadata": {
        "colab": {
          "base_uri": "https://localhost:8080/"
        },
        "id": "HCcydmUzzvNd",
        "outputId": "a1847acc-ab0a-4953-c4cd-ae5598e6ad1b"
      },
      "execution_count": 20,
      "outputs": [
        {
          "output_type": "execute_result",
          "data": {
            "text/plain": [
              "0"
            ]
          },
          "metadata": {},
          "execution_count": 20
        }
      ]
    },
    {
      "cell_type": "code",
      "source": [
        "rv_bernoulli.rvs(size=100)"
      ],
      "metadata": {
        "colab": {
          "base_uri": "https://localhost:8080/"
        },
        "id": "ujBTHBsBzxII",
        "outputId": "220690c2-beac-4079-e76f-af6bac26fd37"
      },
      "execution_count": 21,
      "outputs": [
        {
          "output_type": "execute_result",
          "data": {
            "text/plain": [
              "array([0, 1, 0, 0, 0, 0, 0, 1, 0, 0, 0, 0, 1, 0, 0, 1, 0, 0, 0, 0, 1, 1,\n",
              "       1, 0, 0, 1, 1, 1, 0, 0, 0, 0, 0, 0, 0, 0, 1, 0, 0, 0, 1, 0, 1, 0,\n",
              "       0, 0, 0, 0, 0, 0, 0, 1, 0, 1, 0, 0, 1, 1, 0, 0, 1, 0, 0, 1, 0, 1,\n",
              "       0, 1, 0, 0, 0, 0, 1, 0, 0, 0, 0, 1, 0, 0, 0, 1, 0, 0, 0, 0, 0, 1,\n",
              "       0, 1, 1, 0, 0, 0, 0, 0, 0, 0, 0, 0])"
            ]
          },
          "metadata": {},
          "execution_count": 21
        }
      ]
    },
    {
      "cell_type": "markdown",
      "source": [
        "Постройте гистограмму распределения бернули для size=1000"
      ],
      "metadata": {
        "id": "EBNkqi6Bz1oM"
      }
    },
    {
      "cell_type": "code",
      "source": [
        "plt.hist(rv_bernoulli.rvs(size=1000), bins=2)"
      ],
      "metadata": {
        "id": "kNT-Hrec0L_h",
        "outputId": "7ddbe58d-ec58-4058-bf7e-d4aec2d76cd4",
        "colab": {
          "base_uri": "https://localhost:8080/",
          "height": 283
        }
      },
      "execution_count": 22,
      "outputs": [
        {
          "output_type": "execute_result",
          "data": {
            "text/plain": [
              "(array([745., 255.]), array([0. , 0.5, 1. ]), <a list of 2 Patch objects>)"
            ]
          },
          "metadata": {},
          "execution_count": 22
        },
        {
          "output_type": "display_data",
          "data": {
            "text/plain": [
              "<Figure size 432x288 with 1 Axes>"
            ],
            "image/png": "[encoded data removed]"
          },
          "metadata": {
            "needs_background": "light"
          }
        }
      ]
    },
    {
      "cell_type": "markdown",
      "source": [
        "## Binomial\n",
        "\n",
        "$$p_X(k)= \\binom{n}{k}p^k(1-p)^{n-k}$$\n",
        "\n",
        "Support $[0,n]$"
      ],
      "metadata": {
        "id": "8pD74vSV0K9I"
      }
    },
    {
      "cell_type": "code",
      "source": [
        "from scipy.stats import binom"
      ],
      "metadata": {
        "id": "ez2YMWT20Rpc"
      },
      "execution_count": 23,
      "outputs": []
    },
    {
      "cell_type": "code",
      "source": [
        "n, p = 10, 0.3"
      ],
      "metadata": {
        "id": "aoNW75i90VId"
      },
      "execution_count": 24,
      "outputs": []
    },
    {
      "cell_type": "code",
      "source": [
        "rv_binom = binom(n, p)\n",
        "mean, var = rv_binom.stats(moments='mv')\n",
        "print(mean, var)"
      ],
      "metadata": {
        "colab": {
          "base_uri": "https://localhost:8080/"
        },
        "id": "cqtgdU9t0YkO",
        "outputId": "42466fb6-a27b-42d7-c97c-2f477fbd26aa"
      },
      "execution_count": 25,
      "outputs": [
        {
          "output_type": "stream",
          "name": "stdout",
          "text": [
            "3.0 2.0999999999999996\n"
          ]
        }
      ]
    },
    {
      "cell_type": "code",
      "source": [
        "rv_binom.var()"
      ],
      "metadata": {
        "colab": {
          "base_uri": "https://localhost:8080/"
        },
        "id": "TGhpCrsb0i7t",
        "outputId": "3b446661-ba74-41bb-87ff-3f8a7edb9976"
      },
      "execution_count": 26,
      "outputs": [
        {
          "output_type": "execute_result",
          "data": {
            "text/plain": [
              "2.0999999999999996"
            ]
          },
          "metadata": {},
          "execution_count": 26
        }
      ]
    },
    {
      "cell_type": "code",
      "source": [
        "rv_binom.mean()"
      ],
      "metadata": {
        "colab": {
          "base_uri": "https://localhost:8080/"
        },
        "id": "tFbLPlOO0pxN",
        "outputId": "d2a90eda-a75e-45a4-b0f6-adc64a45e2ed"
      },
      "execution_count": 27,
      "outputs": [
        {
          "output_type": "execute_result",
          "data": {
            "text/plain": [
              "3.0"
            ]
          },
          "metadata": {},
          "execution_count": 27
        }
      ]
    },
    {
      "cell_type": "markdown",
      "source": [
        "Постройте точечный график биномиального распределения на отрезке [-10, 10]"
      ],
      "metadata": {
        "id": "syo0ItCL1CB1"
      }
    },
    {
      "cell_type": "code",
      "source": [
        "x = np.arange(-10,10,1)\n",
        "plt.scatter(x, rv_binom.pmf(x))"
      ],
      "metadata": {
        "id": "Yi4UKzZe1Azv",
        "outputId": "b3c2a28f-88de-40bd-ecae-c6613d55287b",
        "colab": {
          "base_uri": "https://localhost:8080/",
          "height": 283
        }
      },
      "execution_count": 28,
      "outputs": [
        {
          "output_type": "execute_result",
          "data": {
            "text/plain": [
              "<matplotlib.collections.PathCollection at 0x7fbc1cb8b250>"
            ]
          },
          "metadata": {},
          "execution_count": 28
        },
        {
          "output_type": "display_data",
          "data": {
            "text/plain": [
              "<Figure size 432x288 with 1 Axes>"
            ],
            "image/png": "[encoded data removed]"
          },
          "metadata": {
            "needs_background": "light"
          }
        }
      ]
    },
    {
      "cell_type": "markdown",
      "source": [
        "$P(X=4)$ ?"
      ],
      "metadata": {
        "id": "-LrSq9qw1PN3"
      }
    },
    {
      "cell_type": "code",
      "source": [
        "rv_binom.pmf([4])"
      ],
      "metadata": {
        "id": "rJUn95z91Oho",
        "outputId": "6be11f9f-577c-427f-9314-f9f4b9d8a420",
        "colab": {
          "base_uri": "https://localhost:8080/"
        }
      },
      "execution_count": 42,
      "outputs": [
        {
          "output_type": "execute_result",
          "data": {
            "text/plain": [
              "array([0.20012095])"
            ]
          },
          "metadata": {},
          "execution_count": 42
        }
      ]
    },
    {
      "cell_type": "markdown",
      "source": [
        "Постройте график кумулятивного биномиального распределения на отрезке [-10, 10]"
      ],
      "metadata": {
        "id": "BSoH7zvV1zas"
      }
    },
    {
      "cell_type": "code",
      "source": [
        "plt.plot(x, rv_binom.cdf(x))"
      ],
      "metadata": {
        "id": "oJ9DiKeb2G76",
        "outputId": "3d3170bb-a34c-4f83-a783-6dd088ce865e",
        "colab": {
          "base_uri": "https://localhost:8080/",
          "height": 283
        }
      },
      "execution_count": 30,
      "outputs": [
        {
          "output_type": "execute_result",
          "data": {
            "text/plain": [
              "[<matplotlib.lines.Line2D at 0x7fbc1cb7a4d0>]"
            ]
          },
          "metadata": {},
          "execution_count": 30
        },
        {
          "output_type": "display_data",
          "data": {
            "text/plain": [
              "<Figure size 432x288 with 1 Axes>"
            ],
            "image/png": "[encoded data removed]"
          },
          "metadata": {
            "needs_background": "light"
          }
        }
      ]
    },
    {
      "cell_type": "markdown",
      "source": [
        "$P(X≤4)$ ?"
      ],
      "metadata": {
        "id": "3Y1I2YQj2HT8"
      }
    },
    {
      "cell_type": "code",
      "source": [
        "rv_binom.cdf(4)"
      ],
      "metadata": {
        "id": "yf1ba-3S2J6p",
        "outputId": "17cf7e0f-740a-4f7e-bb3f-5733e02178aa",
        "colab": {
          "base_uri": "https://localhost:8080/"
        }
      },
      "execution_count": 37,
      "outputs": [
        {
          "output_type": "execute_result",
          "data": {
            "text/plain": [
              "0.8497316674000001"
            ]
          },
          "metadata": {},
          "execution_count": 37
        }
      ]
    },
    {
      "cell_type": "markdown",
      "source": [
        "### **Random samples**"
      ],
      "metadata": {
        "id": "LhZZJk2Q2Z5l"
      }
    },
    {
      "cell_type": "code",
      "source": [
        "rv_binom.rvs()"
      ],
      "metadata": {
        "colab": {
          "base_uri": "https://localhost:8080/"
        },
        "id": "QXkCluC02a_R",
        "outputId": "7051320a-5471-4654-f394-31b0edd1bd11"
      },
      "execution_count": null,
      "outputs": [
        {
          "output_type": "execute_result",
          "data": {
            "text/plain": [
              "3"
            ]
          },
          "metadata": {},
          "execution_count": 37
        }
      ]
    },
    {
      "cell_type": "code",
      "source": [
        "rv_binom.rvs(100)"
      ],
      "metadata": {
        "colab": {
          "base_uri": "https://localhost:8080/"
        },
        "id": "UofEMAdi2rv6",
        "outputId": "89fedcf6-5467-4c88-8a04-e6ad88882782"
      },
      "execution_count": null,
      "outputs": [
        {
          "output_type": "execute_result",
          "data": {
            "text/plain": [
              "array([1, 2, 4, 4, 6, 1, 1, 3, 3, 5, 4, 1, 0, 3, 3, 3, 2, 3, 3, 3, 3, 0,\n",
              "       3, 3, 2, 1, 2, 3, 3, 3, 3, 1, 1, 3, 4, 1, 4, 6, 2, 2, 1, 4, 3, 2,\n",
              "       3, 2, 1, 5, 3, 1, 1, 4, 1, 1, 4, 3, 2, 3, 6, 2, 3, 1, 2, 3, 0, 2,\n",
              "       5, 2, 3, 2, 2, 2, 7, 3, 4, 3, 4, 2, 1, 2, 3, 4, 5, 4, 3, 3, 5, 4,\n",
              "       3, 7, 1, 2, 4, 4, 3, 4, 6, 4, 2, 4])"
            ]
          },
          "metadata": {},
          "execution_count": 38
        }
      ]
    },
    {
      "cell_type": "markdown",
      "source": [
        "Постройте гистограмму биномиального распределения для size=10000, bins=10\n"
      ],
      "metadata": {
        "id": "OLPKr4EY27UO"
      }
    },
    {
      "cell_type": "code",
      "source": [
        "plt.hist(rv_binom.rvs(10000), bins=10)\n",
        "plt.vlines(rv_binom.mean(),0,10000*p, colors=['r'])"
      ],
      "metadata": {
        "id": "M2Q8OGNl3LJx",
        "outputId": "b51eb1ff-8b12-48c8-b54d-94666b5c1abd",
        "colab": {
          "base_uri": "https://localhost:8080/",
          "height": 283
        }
      },
      "execution_count": null,
      "outputs": [
        {
          "output_type": "execute_result",
          "data": {
            "text/plain": [
              "<matplotlib.collections.LineCollection at 0x7f1953e59690>"
            ]
          },
          "metadata": {},
          "execution_count": 51
        },
        {
          "output_type": "display_data",
          "data": {
            "text/plain": [
              "<Figure size 432x288 with 1 Axes>"
            ],
            "image/png": "[encoded data removed]"
          },
          "metadata": {
            "needs_background": "light"
          }
        }
      ]
    },
    {
      "cell_type": "markdown",
      "source": [
        "Постройте для n = 10000"
      ],
      "metadata": {
        "id": "8h8ZvuEnQsEx"
      }
    },
    {
      "cell_type": "code",
      "source": [
        "n = 10000\n",
        "rv_binom = binom(n, p)\n",
        "plt.hist(rv_binom.rvs(10000), bins=10)"
      ],
      "metadata": {
        "id": "ejQA4LGNQ6da",
        "colab": {
          "base_uri": "https://localhost:8080/",
          "height": 356
        },
        "outputId": "86de4056-2fe6-410f-85ba-e9d5079c050e"
      },
      "execution_count": null,
      "outputs": [
        {
          "output_type": "execute_result",
          "data": {
            "text/plain": [
              "(array([   9.,   91.,  426., 1360., 2476., 2807., 1877.,  739.,  190.,\n",
              "          25.]),\n",
              " array([2825. , 2858.6, 2892.2, 2925.8, 2959.4, 2993. , 3026.6, 3060.2,\n",
              "        3093.8, 3127.4, 3161. ]),\n",
              " <a list of 10 Patch objects>)"
            ]
          },
          "metadata": {},
          "execution_count": 24
        },
        {
          "output_type": "display_data",
          "data": {
            "text/plain": [
              "<Figure size 432x288 with 1 Axes>"
            ],
            "image/png": "[encoded data removed]"
          },
          "metadata": {
            "needs_background": "light"
          }
        }
      ]
    },
    {
      "cell_type": "markdown",
      "source": [
        "## Poisson\n",
        "\n",
        "$$p_X(k)=e^{- \\lambda}\\frac{\\lambda^k}{k!}$$"
      ],
      "metadata": {
        "id": "_o2vd0RwQ63q"
      }
    },
    {
      "cell_type": "code",
      "source": [
        "from scipy.stats import poisson"
      ],
      "metadata": {
        "id": "DcgLl2mLQ81b"
      },
      "execution_count": 44,
      "outputs": []
    },
    {
      "cell_type": "code",
      "source": [
        "mu = 6\n",
        "rv_poisson = poisson(mu)\n",
        "rv_poisson.std()"
      ],
      "metadata": {
        "colab": {
          "base_uri": "https://localhost:8080/"
        },
        "id": "O6y2KGqvRCZI",
        "outputId": "ad4694c1-35e3-419c-f859-3352d7e7493d"
      },
      "execution_count": 45,
      "outputs": [
        {
          "output_type": "execute_result",
          "data": {
            "text/plain": [
              "2.449489742783178"
            ]
          },
          "metadata": {},
          "execution_count": 45
        }
      ]
    },
    {
      "cell_type": "code",
      "source": [
        "x = np.arange(-2,20,1)\n",
        "plt.scatter(x, rv_poisson.pmf(x))"
      ],
      "metadata": {
        "colab": {
          "base_uri": "https://localhost:8080/",
          "height": 283
        },
        "id": "pNf14r5mRWiS",
        "outputId": "6070ab2f-4025-4d9b-cc1b-f0892f1761e0"
      },
      "execution_count": 46,
      "outputs": [
        {
          "output_type": "execute_result",
          "data": {
            "text/plain": [
              "<matplotlib.collections.PathCollection at 0x7fbc1bf04a90>"
            ]
          },
          "metadata": {},
          "execution_count": 46
        },
        {
          "output_type": "display_data",
          "data": {
            "text/plain": [
              "<Figure size 432x288 with 1 Axes>"
            ],
            "image/png": "[encoded data removed]"
          },
          "metadata": {
            "needs_background": "light"
          }
        }
      ]
    },
    {
      "cell_type": "markdown",
      "source": [
        "$P(X≤10)$"
      ],
      "metadata": {
        "id": "2RpGBm4URbLD"
      }
    },
    {
      "cell_type": "code",
      "source": [
        "rv_poisson.cdf(10)"
      ],
      "metadata": {
        "id": "kiDypMWmRXlb",
        "colab": {
          "base_uri": "https://localhost:8080/"
        },
        "outputId": "734a20e6-9704-4b07-b9ff-0f5604a260f3"
      },
      "execution_count": 48,
      "outputs": [
        {
          "output_type": "execute_result",
          "data": {
            "text/plain": [
              "0.957379076417462"
            ]
          },
          "metadata": {},
          "execution_count": 48
        }
      ]
    },
    {
      "cell_type": "markdown",
      "source": [
        "$P(X=10)$"
      ],
      "metadata": {
        "id": "pH5CBrb0RclL"
      }
    },
    {
      "cell_type": "code",
      "source": [
        "rv_poisson.pmf([10])"
      ],
      "metadata": {
        "id": "_aujjEqVRfbj",
        "colab": {
          "base_uri": "https://localhost:8080/"
        },
        "outputId": "6e0fec86-fdc4-40d0-d9b0-fda91e6d79fc"
      },
      "execution_count": 70,
      "outputs": [
        {
          "output_type": "execute_result",
          "data": {
            "text/plain": [
              "array([0.04130309])"
            ]
          },
          "metadata": {},
          "execution_count": 70
        }
      ]
    },
    {
      "cell_type": "markdown",
      "source": [
        "Постройте гистограмму распределения Пуассона bins = 12, и границы стандартного отклонения"
      ],
      "metadata": {
        "id": "ZjpSmHi4RsAf"
      }
    },
    {
      "cell_type": "code",
      "source": [
        "plt.hist(rv_poisson.rvs(size=100), bins=12)\n",
        "plt.axhline(rv_poisson.std(), 0, 1, color = 'red')"
      ],
      "metadata": {
        "id": "-Z44iwwkR478",
        "colab": {
          "base_uri": "https://localhost:8080/",
          "height": 283
        },
        "outputId": "4dd4558e-afaf-45cc-e3df-609dbb3b958d"
      },
      "execution_count": 139,
      "outputs": [
        {
          "output_type": "execute_result",
          "data": {
            "text/plain": [
              "<matplotlib.lines.Line2D at 0x7fbc17e8d110>"
            ]
          },
          "metadata": {},
          "execution_count": 139
        },
        {
          "output_type": "display_data",
          "data": {
            "text/plain": [
              "<Figure size 432x288 with 1 Axes>"
            ],
            "image/png": "[encoded data removed]"
          },
          "metadata": {
            "needs_background": "light"
          }
        }
      ]
    },
    {
      "cell_type": "markdown",
      "source": [
        "# **Continuous distributions**"
      ],
      "metadata": {
        "id": "oQJ2yl4TSMDi"
      }
    },
    {
      "cell_type": "markdown",
      "source": [
        "## **Uniform (равномерное)**"
      ],
      "metadata": {
        "id": "qy7uBAS2SSoH"
      }
    },
    {
      "cell_type": "code",
      "source": [
        "from scipy.stats import uniform"
      ],
      "metadata": {
        "id": "mAjeEv12SaHh"
      },
      "execution_count": 49,
      "outputs": []
    },
    {
      "cell_type": "markdown",
      "source": [
        "## Uniform supported $[0,1]$\n",
        "\n",
        "$f_X(X)=1$, if $x \\in [0,1]$\n",
        "\n",
        "Support $[0,1]$"
      ],
      "metadata": {
        "id": "KC_F6p-PScFe"
      }
    },
    {
      "cell_type": "code",
      "source": [
        "rv_uniform_1 = uniform()"
      ],
      "metadata": {
        "id": "FrTrGNIrSeXs"
      },
      "execution_count": 73,
      "outputs": []
    },
    {
      "cell_type": "code",
      "source": [
        "print(rv_uniform_1.mean())\n",
        "print(rv_uniform_1.var())"
      ],
      "metadata": {
        "colab": {
          "base_uri": "https://localhost:8080/"
        },
        "id": "ICqCf0MlShng",
        "outputId": "b83d27ee-ee8b-4c09-fd80-2624389c529f"
      },
      "execution_count": 74,
      "outputs": [
        {
          "output_type": "stream",
          "name": "stdout",
          "text": [
            "0.5\n",
            "0.08333333333333333\n"
          ]
        }
      ]
    },
    {
      "cell_type": "code",
      "source": [
        "plt.plot([-1,-0.01,0,1,1.01,2], rv_uniform_1.pdf([-1,-0.01,0,1,1.01,2]))"
      ],
      "metadata": {
        "colab": {
          "base_uri": "https://localhost:8080/",
          "height": 283
        },
        "id": "IRy6-DdBSkqu",
        "outputId": "9f889d34-705e-4b2e-c934-d0b3a5cba7dd"
      },
      "execution_count": 75,
      "outputs": [
        {
          "output_type": "execute_result",
          "data": {
            "text/plain": [
              "[<matplotlib.lines.Line2D at 0x7fbc1b85cfd0>]"
            ]
          },
          "metadata": {},
          "execution_count": 75
        },
        {
          "output_type": "display_data",
          "data": {
            "text/plain": [
              "<Figure size 432x288 with 1 Axes>"
            ],
            "image/png": "[encoded data removed]"
          },
          "metadata": {
            "needs_background": "light"
          }
        }
      ]
    },
    {
      "cell_type": "code",
      "source": [
        "plt.plot([-1,-0.01,0,1,1.01,2], rv_uniform_1.cdf([-1,-0.01,0,1,1.01,2]))"
      ],
      "metadata": {
        "colab": {
          "base_uri": "https://localhost:8080/",
          "height": 283
        },
        "id": "cMvGZBnYS7k3",
        "outputId": "b4a32985-70e3-4e33-dc5e-1910b3ff3831"
      },
      "execution_count": 76,
      "outputs": [
        {
          "output_type": "execute_result",
          "data": {
            "text/plain": [
              "[<matplotlib.lines.Line2D at 0x7fbc1b7cdf50>]"
            ]
          },
          "metadata": {},
          "execution_count": 76
        },
        {
          "output_type": "display_data",
          "data": {
            "text/plain": [
              "<Figure size 432x288 with 1 Axes>"
            ],
            "image/png": "[encoded data removed]"
          },
          "metadata": {
            "needs_background": "light"
          }
        }
      ]
    },
    {
      "cell_type": "markdown",
      "source": [
        "Постройте гистограмму равномерного распределения для size=1000"
      ],
      "metadata": {
        "id": "FIiCJuNWTLjq"
      }
    },
    {
      "cell_type": "code",
      "source": [
        "plt.hist(rv_uniform_1.rvs(size = 1000))"
      ],
      "metadata": {
        "id": "q7PyDM9KUDNX",
        "outputId": "ab039c77-8b35-4ded-cefa-311d53101085",
        "colab": {
          "base_uri": "https://localhost:8080/",
          "height": 356
        }
      },
      "execution_count": 77,
      "outputs": [
        {
          "output_type": "execute_result",
          "data": {
            "text/plain": [
              "(array([100.,  82.,  91., 114.,  98., 114., 105., 103.,  93., 100.]),\n",
              " array([0.00123795, 0.1011041 , 0.20097026, 0.30083641, 0.40070256,\n",
              "        0.50056871, 0.60043486, 0.70030101, 0.80016716, 0.90003332,\n",
              "        0.99989947]),\n",
              " <a list of 10 Patch objects>)"
            ]
          },
          "metadata": {},
          "execution_count": 77
        },
        {
          "output_type": "display_data",
          "data": {
            "text/plain": [
              "<Figure size 432x288 with 1 Axes>"
            ],
            "image/png": "[encoded data removed]"
          },
          "metadata": {
            "needs_background": "light"
          }
        }
      ]
    },
    {
      "cell_type": "markdown",
      "source": [
        "## Exponential\n",
        "\n",
        "$$f_X(x)= \\begin{cases} \\lambda e^{- \\lambda x}, x≥0\\\\ 0, x<0 \\end{cases}$$\n",
        "\n",
        "$$E[X]=\\frac{1}{\\lambda}$$\n",
        "\n",
        "$$Var[X]=\\frac{1}{\\lambda^2}$$\n",
        "\n",
        "Support $[0,+\\infty]$"
      ],
      "metadata": {
        "id": "W4ZMzFC9UDma"
      }
    },
    {
      "cell_type": "code",
      "source": [
        "from scipy.stats import expon"
      ],
      "metadata": {
        "id": "QfmG8bxEUEOr"
      },
      "execution_count": 78,
      "outputs": []
    },
    {
      "cell_type": "code",
      "source": [
        "lamb = 1\n",
        "rv_exp_1 = expon(scale=1/lamb, loc=0)\n",
        "print(rv_exp_1.mean())\n",
        "print(rv_exp_1.var())"
      ],
      "metadata": {
        "colab": {
          "base_uri": "https://localhost:8080/"
        },
        "id": "ijuL04RmUIuC",
        "outputId": "f545b672-d1e7-4c16-c03a-0965fa53d792"
      },
      "execution_count": 111,
      "outputs": [
        {
          "output_type": "stream",
          "name": "stdout",
          "text": [
            "1.0\n",
            "1.0\n"
          ]
        }
      ]
    },
    {
      "cell_type": "code",
      "source": [
        "x = np.arange(-1,20,0.1)\n",
        "plt.plot(x,rv_exp_1.pdf(x))\n",
        "plt.vlines(rv_exp_1.mean(),0,0.9, colors=['r'])"
      ],
      "metadata": {
        "colab": {
          "base_uri": "https://localhost:8080/",
          "height": 283
        },
        "id": "y6mTGB9RULlK",
        "outputId": "c6df028a-84e8-4731-f8c6-efaf65aa216b"
      },
      "execution_count": 110,
      "outputs": [
        {
          "output_type": "execute_result",
          "data": {
            "text/plain": [
              "<matplotlib.collections.LineCollection at 0x7fbc1adf5550>"
            ]
          },
          "metadata": {},
          "execution_count": 110
        },
        {
          "output_type": "display_data",
          "data": {
            "text/plain": [
              "<Figure size 432x288 with 1 Axes>"
            ],
            "image/png": "[encoded data removed]"
          },
          "metadata": {
            "needs_background": "light"
          }
        }
      ]
    },
    {
      "cell_type": "code",
      "source": [
        "lamb = 0.5\n",
        "rv_exp_3 = expon(scale=1/lamb, loc=0)\n",
        "print(rv_exp_3.mean())\n",
        "print(rv_exp_3.var())\n",
        "\n",
        "plt.plot(x,rv_exp_3.pdf(x))\n",
        "plt.vlines(rv_exp_3.mean(),0,0.4, colors=['r'])"
      ],
      "metadata": {
        "colab": {
          "base_uri": "https://localhost:8080/",
          "height": 319
        },
        "id": "U_5AcGNvUcSP",
        "outputId": "66b81943-2c10-48f3-a5c4-18e615ee819d"
      },
      "execution_count": 112,
      "outputs": [
        {
          "output_type": "stream",
          "name": "stdout",
          "text": [
            "2.0\n",
            "4.0\n"
          ]
        },
        {
          "output_type": "execute_result",
          "data": {
            "text/plain": [
              "<matplotlib.collections.LineCollection at 0x7fbc1ad5e410>"
            ]
          },
          "metadata": {},
          "execution_count": 112
        },
        {
          "output_type": "display_data",
          "data": {
            "text/plain": [
              "<Figure size 432x288 with 1 Axes>"
            ],
            "image/png": "[encoded data removed]"
          },
          "metadata": {
            "needs_background": "light"
          }
        }
      ]
    },
    {
      "cell_type": "markdown",
      "source": [
        "Допустим, что смещённым экспоненциальным распределением с праметром $\\lambda=0.5$ моделируется время до сбоя двигателя в автомобиле после 10 лет эксплуатации. Сколько месяцев отработает двигатель при вероятности сбоя в 60%?\n",
        "\n",
        "$q_\\alpha=F^{-1}(1-\\alpha)=F^{-1}(0.6)$"
      ],
      "metadata": {
        "id": "_UxPOjnkUim-"
      }
    },
    {
      "cell_type": "code",
      "source": [
        "lamb = 0.5\n",
        "rv_exp_1 = expon(scale=1/lamb, loc=0)\n",
        "rv_exp_1.pdf([0.6])"
      ],
      "metadata": {
        "id": "u_Fil7wmUjPb",
        "colab": {
          "base_uri": "https://localhost:8080/"
        },
        "outputId": "1aa00adb-8afa-4ad4-ac93-edca26963314"
      },
      "execution_count": 95,
      "outputs": [
        {
          "output_type": "execute_result",
          "data": {
            "text/plain": [
              "array([0.37040911])"
            ]
          },
          "metadata": {},
          "execution_count": 95
        }
      ]
    },
    {
      "cell_type": "markdown",
      "source": [
        "## Normal\n",
        "\n",
        "$$N(\\mu,\\sigma^2): \\; f_X(x)=\\frac{1}{\\sigma\\sqrt{2 \\pi}}e^{-\\frac{1}{2 \\sigma^2}(x-\\mu)^2}$$\n",
        "\n",
        "$$E[X]=\\mu, \\; Var(X)=\\sigma^2$$\n",
        "\n",
        "Support $[-\\infty,+\\infty]$"
      ],
      "metadata": {
        "id": "FPNExJ7hUuwQ"
      }
    },
    {
      "cell_type": "code",
      "source": [
        "from scipy.stats import norm"
      ],
      "metadata": {
        "id": "4_XziMW-U2Jj"
      },
      "execution_count": 82,
      "outputs": []
    },
    {
      "cell_type": "code",
      "source": [
        "mu=0\n",
        "sigma=1\n",
        "rv_norm_1 = norm(loc=mu, scale=sigma)\n",
        "print(rv_norm_1.mean())\n",
        "print(rv_norm_1.var())"
      ],
      "metadata": {
        "colab": {
          "base_uri": "https://localhost:8080/"
        },
        "id": "3qCAUS36U2rP",
        "outputId": "f1547bec-0522-4c36-a92c-1e14b7a52df7"
      },
      "execution_count": 83,
      "outputs": [
        {
          "output_type": "stream",
          "name": "stdout",
          "text": [
            "0.0\n",
            "1.0\n"
          ]
        }
      ]
    },
    {
      "cell_type": "code",
      "source": [
        "x = np.arange(-10,10,0.1)\n",
        "plt.plot(x,rv_norm_1.pdf(x))"
      ],
      "metadata": {
        "colab": {
          "base_uri": "https://localhost:8080/",
          "height": 283
        },
        "id": "LEGWtwEEU7YZ",
        "outputId": "71befa48-56de-4bdc-a922-657da358101d"
      },
      "execution_count": 84,
      "outputs": [
        {
          "output_type": "execute_result",
          "data": {
            "text/plain": [
              "[<matplotlib.lines.Line2D at 0x7fbc1b61dad0>]"
            ]
          },
          "metadata": {},
          "execution_count": 84
        },
        {
          "output_type": "display_data",
          "data": {
            "text/plain": [
              "<Figure size 432x288 with 1 Axes>"
            ],
            "image/png": "[encoded data removed]"
          },
          "metadata": {
            "needs_background": "light"
          }
        }
      ]
    },
    {
      "cell_type": "code",
      "source": [
        "mu=0\n",
        "sigma=4\n",
        "rv_norm_2 = norm(loc=mu, scale=sigma)\n",
        "print(rv_norm_2.mean())\n",
        "print(rv_norm_2.var())"
      ],
      "metadata": {
        "colab": {
          "base_uri": "https://localhost:8080/"
        },
        "id": "O7ksDoTDVL1G",
        "outputId": "3285856c-ae41-4ec7-d583-efbe64ee8b63"
      },
      "execution_count": 85,
      "outputs": [
        {
          "output_type": "stream",
          "name": "stdout",
          "text": [
            "0.0\n",
            "16.0\n"
          ]
        }
      ]
    },
    {
      "cell_type": "code",
      "source": [
        "x = np.arange(-10,10,0.1)\n",
        "plt.plot(x,rv_norm_2.pdf(x))"
      ],
      "metadata": {
        "colab": {
          "base_uri": "https://localhost:8080/",
          "height": 283
        },
        "id": "Ru72xJANVPTd",
        "outputId": "648bca4e-bbb1-4a15-df1e-0b9459e5f2f3"
      },
      "execution_count": 86,
      "outputs": [
        {
          "output_type": "execute_result",
          "data": {
            "text/plain": [
              "[<matplotlib.lines.Line2D at 0x7fbc1b5a7150>]"
            ]
          },
          "metadata": {},
          "execution_count": 86
        },
        {
          "output_type": "display_data",
          "data": {
            "text/plain": [
              "<Figure size 432x288 with 1 Axes>"
            ],
            "image/png": "[encoded data removed]"
          },
          "metadata": {
            "needs_background": "light"
          }
        }
      ]
    },
    {
      "cell_type": "markdown",
      "source": [
        "$P(X≤-100)$"
      ],
      "metadata": {
        "id": "3Ymv_1hnVUgl"
      }
    },
    {
      "cell_type": "code",
      "source": [
        "rv_norm_2.cdf(-100)"
      ],
      "metadata": {
        "id": "HZ4h2u6rVT5q",
        "colab": {
          "base_uri": "https://localhost:8080/"
        },
        "outputId": "80158447-5ab5-4469-9fb4-afd4829308c5"
      },
      "execution_count": 90,
      "outputs": [
        {
          "output_type": "execute_result",
          "data": {
            "text/plain": [
              "3.056696706382561e-138"
            ]
          },
          "metadata": {},
          "execution_count": 90
        }
      ]
    },
    {
      "cell_type": "markdown",
      "source": [
        "Предположим, что распределение роста студентов Владивостока моделируется нормальным распределением с параметрами 𝜇=175, 𝜎=20. Какова вероятность найти студента с ростом меньше 140 см?"
      ],
      "metadata": {
        "id": "RpWmx3EAVd7d"
      }
    },
    {
      "cell_type": "code",
      "source": [
        "mu=175\n",
        "sigma=20\n",
        "rv_norm_task = norm(loc=mu, scale=sigma)\n",
        "rv_norm_task.cdf(139)"
      ],
      "metadata": {
        "id": "1zzknudPVe6s",
        "colab": {
          "base_uri": "https://localhost:8080/"
        },
        "outputId": "2ae15151-800d-488d-9626-9c863d998e22"
      },
      "execution_count": 91,
      "outputs": [
        {
          "output_type": "execute_result",
          "data": {
            "text/plain": [
              "0.03593031911292579"
            ]
          },
          "metadata": {},
          "execution_count": 91
        }
      ]
    }
  ]
}